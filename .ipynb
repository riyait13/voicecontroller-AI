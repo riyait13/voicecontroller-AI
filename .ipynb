{
 "cells": [
  {
   "cell_type": "markdown",
   "id": "6bebb2cf",
   "metadata": {},
   "source": [
    "\n",
    "\n",
    "SIGN TRANSLATOR"
   ]
  },
  {
   "cell_type": "markdown",
   "id": "0c13419b",
   "metadata": {},
   "source": [
    "import cv2\n",
    "\n"
   ]
  },
  {
   "cell_type": "markdown",
   "id": "414acc92",
   "metadata": {},
   "source": [
    "used this because OpenCV (cv2) is essential for anything to do with computer vision. I needed it to access the webcam, capture frames from it, convert colors, and display the video feed on the screen!!\n"
   ]
  },
  {
   "cell_type": "markdown",
   "id": "e635e00b",
   "metadata": {},
   "source": [
    "import  pytesseract"
   ]
  },
  {
   "cell_type": "markdown",
   "id": "6efafbcc",
   "metadata": {},
   "source": [
    " PyTesseract is a Python wrapper for Google's Tesseract OCR engine. I brought it in because I needed a way to (read) the text that appears in the video frames captured by the webcam."
   ]
  },
  {
   "cell_type": "markdown",
   "id": "86c2a3c2",
   "metadata": {},
   "source": [
    "def singh_translator(text):"
   ]
  },
  {
   "cell_type": "markdown",
   "id": "1f23403e",
   "metadata": {},
   "source": [
    " created this function (singh_translator) to encapsulate the core logic of my unique translation. It takes any given text as input, which will be the text detected by OCR, and then processes it according to my 'Singh' rules. This makes my code modular and easy to understand"
   ]
  },
  {
   "cell_type": "markdown",
   "id": "a37149a4",
   "metadata": {},
   "source": [
    "    words = text.split()\n"
   ]
  },
  {
   "cell_type": "markdown",
   "id": "176e9e11",
   "metadata": {},
   "source": [
    "i have used this coz once i get text from OCR ,i need to process each word as a  indiviall text because of that  i need to spilt  to break the incoming string into a list of words, assuming words are separated by spaces"
   ]
  },
  {
   "cell_type": "markdown",
   "id": "354489c4",
   "metadata": {},
   "source": [
    " translated_words = [word + \" Singh\" for word in words]\n"
   ]
  },
  {
   "cell_type": "markdown",
   "id": "8e686074",
   "metadata": {},
   "source": [
    "I used a list comprehension here for clarity and performace . For every word that Tesseract OCR detects  my rule is to simply append  (Singn) to it. So 'Hello' becomes 'Hello Singh', 'World' becomes 'World Singh', and so on.\n"
   ]
  }
 ],
 "metadata": {
  "kernelspec": {
   "display_name": "myenv",
   "language": "python",
   "name": "python3"
  },
  "language_info": {
   "codemirror_mode": {
    "name": "ipython",
    "version": 3
   },
   "file_extension": ".py",
   "mimetype": "text/x-python",
   "name": "python",
   "nbconvert_exporter": "python",
   "pygments_lexer": "ipython3",
   "version": "3.13.3"
  }
 },
 "nbformat": 4,
 "nbformat_minor": 5
}
